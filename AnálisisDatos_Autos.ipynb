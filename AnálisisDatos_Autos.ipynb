{
 "cells": [
  {
   "cell_type": "markdown",
   "id": "11dfc2e3",
   "metadata": {},
   "source": [
    "<img SCR=\"imag1.jpg \"/>"
   ]
  },
  {
   "cell_type": "markdown",
   "id": "0c2925f7",
   "metadata": {},
   "source": [
    "<img SRC=\"imag1.png\"/>\n",
    "<center><h1 Style=\"color:#00CED1\" >Analisis de Datos</h1></center>\n",
    "<center><h5> Universidad Castro Carazo</h5></center>\n",
    "<center><h6> 2do Cuatrimestre 2022</h6></center>\n",
    "</br>\n",
    "<p Style=\"txt-aling: justify\">Este notebook contiene el analisis de los datos de los vehiculos a la venta por parte de la empresa Pk2, esta empresa se encuentra interesada en responder una pregunta de negocio particular.\n",
    "Como se puede incrementar las ventas de autos de seguda mano?\n",
    "    \n",
    "Para esto se realiza un analisis del congunto de datos.</p>\n",
    "</br>\n",
    "<a href=\"https://www.w3schools.com\">Fuente de datos para el analisis</a>"
   ]
  },
  {
   "cell_type": "markdown",
   "id": "941681e1",
   "metadata": {},
   "source": [
    "<h2 Style=\"color:#1E90FF\">1. Carga y estandarizacion de los set de datos</h2>\n",
    "\n",
    "<p>Que se hace en esta etapa?</p>\n",
    "\n",
    "<ol>\n",
    "    <li>Importar las librerias necesarias</li>\n",
    "    <li>Importar el o los set de datos</li>\n",
    "    <li>Revisar los encabezados</li>\n",
    "    <li> Si solo si tenemos mas de 1 set de datos- Unir los set en un unico dataframe</li>\n",
    "</ol>\n",
    "    \n",
    "\n",
    "<h3 Style=\"color:#2F4F4F\">1.1 Importar las librerias</h3>"
   ]
  },
  {
   "cell_type": "code",
   "execution_count": 16,
   "id": "64f5e733",
   "metadata": {},
   "outputs": [],
   "source": [
    "import pandas as pd              #para el mandaje de dataframe\n",
    "import numpy as np               #se una para el manejo de estructuras de datos como listas tublas diccionarios\n",
    "import matplotlib.pyplot as ptl  #para el manejo de datos"
   ]
  },
  {
   "cell_type": "markdown",
   "id": "908b93a3",
   "metadata": {},
   "source": [
    "<h3 Style=\"color:#2F4F4F\">1.2 Importar set de datos</h3>"
   ]
  },
  {
   "cell_type": "code",
   "execution_count": 17,
   "id": "f40eedf7",
   "metadata": {},
   "outputs": [],
   "source": [
    "cols = [\"symboling\", \"normalized\", \"make\", \"fuel\", \"aspiration\", \"doors\",\n",
    "        \"style\", \"wheels\", \"engine\", \"base\", \"length\", \"width\", \"heingt\",\n",
    "        \"curb\", \"engineType\", \"Cylinders\", \"engine-size\", \"system\", \"bore\", \"stroke\",\n",
    "        \"compression\", \"horsepower\", \"peak\", \"City\", \"Higway\", \"price\"]\n",
    "\n",
    "df_1er_autos = pd.read_csv(\"autos.csv\" , names=cols)\n",
    "df_2da_autos = pd.read_csv(\"Autos 1.csv\" , names=cols)"
   ]
  },
  {
   "cell_type": "code",
   "execution_count": null,
   "id": "895684d1",
   "metadata": {},
   "outputs": [],
   "source": [
    "df_1er_autos.shape #Para conocer el tamano del DtaFrame"
   ]
  },
  {
   "cell_type": "code",
   "execution_count": null,
   "id": "bfc35e72",
   "metadata": {},
   "outputs": [],
   "source": [
    "df_2do_autos.shape"
   ]
  },
  {
   "cell_type": "code",
   "execution_count": null,
   "id": "d99de21e",
   "metadata": {},
   "outputs": [],
   "source": [
    "df_1er_autos.head(10)"
   ]
  }
 ],
 "metadata": {
  "kernelspec": {
   "display_name": "Python 3 (ipykernel)",
   "language": "python",
   "name": "python3"
  },
  "language_info": {
   "codemirror_mode": {
    "name": "ipython",
    "version": 3
   },
   "file_extension": ".py",
   "mimetype": "text/x-python",
   "name": "python",
   "nbconvert_exporter": "python",
   "pygments_lexer": "ipython3",
   "version": "3.9.12"
  }
 },
 "nbformat": 4,
 "nbformat_minor": 5
}
